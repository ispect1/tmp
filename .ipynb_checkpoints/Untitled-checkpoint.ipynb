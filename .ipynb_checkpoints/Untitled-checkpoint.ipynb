{
 "cells": [
  {
   "cell_type": "code",
   "execution_count": 13,
   "id": "af3e4f0a",
   "metadata": {},
   "outputs": [],
   "source": [
    "import hashlib\n",
    "from utils import to_base64"
   ]
  },
  {
   "cell_type": "code",
   "execution_count": 8,
   "id": "533d05f5",
   "metadata": {},
   "outputs": [],
   "source": [
    "import base64\n",
    "import hashlib\n",
    "from Crypto import Random\n",
    "from Crypto.Cipher import AES\n",
    "\n",
    "\n",
    "class AESCipher(object):\n",
    "    def __init__(self):\n",
    "        self.bs = AES.block_size\n",
    "        key = random_hash_generate()\n",
    "        self.key = hashlib.sha256(key.encode()).digest()\n",
    "\n",
    "    def encrypt(self, raw_bytes):\n",
    "        raw = raw_bytes.decode()\n",
    "        raw = self._pad(raw)\n",
    "        iv = Random.new().read(AES.block_size)\n",
    "        cipher = AES.new(self.key, AES.MODE_CBC, iv)\n",
    "        return base64.b64encode(iv + cipher.encrypt(raw.encode()))\n",
    "\n",
    "    def decrypt(self, enc):\n",
    "        enc = base64.b64decode(enc)\n",
    "        iv = enc[:AES.block_size]\n",
    "        cipher = AES.new(self.key, AES.MODE_CBC, iv)\n",
    "        return self._unpad(cipher.decrypt(enc[AES.block_size:])).decode('utf-8')\n",
    "\n",
    "    def _pad(self, s):\n",
    "        return s + (self.bs - len(s) % self.bs) * chr(self.bs - len(s) % self.bs)\n",
    "\n",
    "    @staticmethod\n",
    "    def _unpad(s):\n",
    "        return s[:-ord(s[len(s)-1:])]\n",
    "\n",
    "\n",
    "def random_hash_generate():\n",
    "    return hashlib.sha256().hexdigest()\n"
   ]
  },
  {
   "cell_type": "code",
   "execution_count": 17,
   "id": "f18ea97a",
   "metadata": {},
   "outputs": [],
   "source": [
    "aes = AESCipher()"
   ]
  },
  {
   "cell_type": "code",
   "execution_count": 19,
   "id": "260713f6",
   "metadata": {},
   "outputs": [
    {
     "data": {
      "text/plain": [
       "b'Ab0fMu5e/X05xZSqj3amnovOiFvef6X+YKR7E8TvP6dKbq7lLZuNNY/OLtX0iMRy'"
      ]
     },
     "execution_count": 19,
     "metadata": {},
     "output_type": "execute_result"
    }
   ],
   "source": [
    "aes.encrypt(to_base64({'Hello': 123}).decode())"
   ]
  },
  {
   "cell_type": "code",
   "execution_count": 10,
   "id": "bf19d9cc",
   "metadata": {},
   "outputs": [
    {
     "data": {
      "text/plain": [
       "<__main__.AESCipher at 0x112e88990>"
      ]
     },
     "execution_count": 10,
     "metadata": {},
     "output_type": "execute_result"
    }
   ],
   "source": [
    "aes.encrypt()"
   ]
  },
  {
   "cell_type": "code",
   "execution_count": null,
   "id": "4ad0df41",
   "metadata": {},
   "outputs": [],
   "source": []
  }
 ],
 "metadata": {
  "kernelspec": {
   "display_name": "Python 3",
   "language": "python",
   "name": "python3"
  },
  "language_info": {
   "codemirror_mode": {
    "name": "ipython",
    "version": 3
   },
   "file_extension": ".py",
   "mimetype": "text/x-python",
   "name": "python",
   "nbconvert_exporter": "python",
   "pygments_lexer": "ipython3",
   "version": "3.7.8"
  }
 },
 "nbformat": 4,
 "nbformat_minor": 5
}

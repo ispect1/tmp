{
 "cells": [
  {
   "cell_type": "code",
   "execution_count": 1,
   "id": "9761a327",
   "metadata": {},
   "outputs": [],
   "source": [
    "%load_ext autoreload\n",
    "%autoreload 2"
   ]
  },
  {
   "cell_type": "code",
   "execution_count": 2,
   "id": "67891c1a",
   "metadata": {},
   "outputs": [],
   "source": [
    "import hashlib\n",
    "from utils import to_base64\n",
    "import base64"
   ]
  },
  {
   "cell_type": "code",
   "execution_count": 110,
   "id": "943389d3",
   "metadata": {},
   "outputs": [],
   "source": [
    "from crypto import RSAEncryption, generate_hash\n",
    "from Crypto.Cipher import PKCS1_OAEP\n",
    "from Crypto.PublicKey import RSA\n",
    "from Crypto import Random"
   ]
  },
  {
   "cell_type": "code",
   "execution_count": 124,
   "id": "93d1985d",
   "metadata": {},
   "outputs": [
    {
     "data": {
      "text/plain": [
       "'30fb9a46a8e8a3c0c2c2bbf561db3775d17783df'"
      ]
     },
     "execution_count": 124,
     "metadata": {},
     "output_type": "execute_result"
    }
   ],
   "source": [
    "generate_hash()"
   ]
  },
  {
   "cell_type": "code",
   "execution_count": 11,
   "id": "b8c99c7e",
   "metadata": {},
   "outputs": [],
   "source": [
    "rsa.generate_keys()"
   ]
  },
  {
   "cell_type": "code",
   "execution_count": 12,
   "id": "d6e071ba",
   "metadata": {},
   "outputs": [
    {
     "data": {
      "text/plain": [
       "'Hello'"
      ]
     },
     "execution_count": 12,
     "metadata": {},
     "output_type": "execute_result"
    }
   ],
   "source": [
    "rsa.decrypt(rsa.encrypt())"
   ]
  },
  {
   "cell_type": "code",
   "execution_count": 37,
   "id": "df203876",
   "metadata": {},
   "outputs": [],
   "source": [
    "from uuid import UUID, uuid4"
   ]
  },
  {
   "cell_type": "code",
   "execution_count": 39,
   "id": "55a9a931",
   "metadata": {},
   "outputs": [
    {
     "data": {
      "text/plain": [
       "UUID('db40ed17-7ca8-4d14-a1ac-cf38d9e46536')"
      ]
     },
     "execution_count": 39,
     "metadata": {},
     "output_type": "execute_result"
    }
   ],
   "source": [
    "uid = uuid4()\n",
    "uid"
   ]
  },
  {
   "cell_type": "code",
   "execution_count": 50,
   "id": "e8633803",
   "metadata": {},
   "outputs": [
    {
     "data": {
      "text/plain": [
       "UUID('560741e1-7e29-4539-a0b3-4d38f144ebe9')"
      ]
     },
     "execution_count": 50,
     "metadata": {},
     "output_type": "execute_result"
    }
   ],
   "source": [
    "UUID('560741E1-7E29-4539-A0B3-4D38F144EBE9')"
   ]
  },
  {
   "cell_type": "code",
   "execution_count": 60,
   "id": "55233b87",
   "metadata": {},
   "outputs": [],
   "source": [
    "t = hashlib.sha256()"
   ]
  },
  {
   "cell_type": "code",
   "execution_count": 107,
   "id": "2a8cfbaf",
   "metadata": {},
   "outputs": [],
   "source": [
    "t = hashlib.sha1(os.urandom(32))"
   ]
  },
  {
   "cell_type": "code",
   "execution_count": 108,
   "id": "15ec8904",
   "metadata": {},
   "outputs": [
    {
     "data": {
      "text/plain": [
       "'cf1b9c1744a615cb9a5ea28f5c962e348f4cf3af'"
      ]
     },
     "execution_count": 108,
     "metadata": {},
     "output_type": "execute_result"
    }
   ],
   "source": [
    "t.hexdigest()"
   ]
  },
  {
   "cell_type": "code",
   "execution_count": 14,
   "id": "bb6dbba3",
   "metadata": {},
   "outputs": [],
   "source": [
    "from datetime import date, datetime"
   ]
  },
  {
   "cell_type": "code",
   "execution_count": 29,
   "id": "4563e1be",
   "metadata": {},
   "outputs": [],
   "source": [
    "d = date.today()"
   ]
  },
  {
   "cell_type": "code",
   "execution_count": 34,
   "id": "4fc365ab",
   "metadata": {},
   "outputs": [
    {
     "data": {
      "text/plain": [
       "'2021-06-05'"
      ]
     },
     "execution_count": 34,
     "metadata": {},
     "output_type": "execute_result"
    }
   ],
   "source": [
    "str(d)"
   ]
  },
  {
   "cell_type": "code",
   "execution_count": 27,
   "id": "186a8646",
   "metadata": {},
   "outputs": [
    {
     "data": {
      "text/plain": [
       "datetime.datetime(2021, 6, 5, 4, 34, 9, 327774)"
      ]
     },
     "execution_count": 27,
     "metadata": {},
     "output_type": "execute_result"
    }
   ],
   "source": [
    "datetime.now()"
   ]
  },
  {
   "cell_type": "code",
   "execution_count": 28,
   "id": "0b593b9a",
   "metadata": {},
   "outputs": [
    {
     "data": {
      "text/plain": [
       "datetime.datetime(2021, 6, 5, 4, 34, 9)"
      ]
     },
     "execution_count": 28,
     "metadata": {},
     "output_type": "execute_result"
    }
   ],
   "source": [
    "datetime.fromtimestamp(int(datetime.now().timestamp()))"
   ]
  },
  {
   "cell_type": "code",
   "execution_count": 40,
   "id": "3133c471",
   "metadata": {},
   "outputs": [],
   "source": [
    "    places = [{'uuid': \"1\", \"title\": \"Дворец спорта\", \"description\": \"Заебись. \" * 20, \"day\": 12, \"month\": 1,\n",
    "              \"year\": 2020, 'city': \"Москва\", 'free_seats': 1},\n",
    "              {'uuid': \"1\", \"title\": \"Дворец спорта\", \"description\": \"Заебись. \" * 20, \"day\": 12, \"month\": 1,\n",
    "               \"year\": 2021, 'city': \"Сочи\", 'free_seats': 30},\n",
    "              {'uuid': \"1\", \"title\": \"Дворец спорта\", \"description\": \"Заебись. \" * 20, \"day\": 12, \"month\": 1,\n",
    "               \"year\": 2021, 'city': \"Москва\", 'free_seats': 0},\n",
    "              {'uuid': \"1\", \"title\": \"Дворец спорта\", \"description\": \"Заебись. \" * 20, \"day\": 13, \"month\": 1,\n",
    "               \"year\": 2021, 'city': \"Москва\", 'free_seats': 30},\n",
    "              {'uuid': \"1\", \"title\": \"Дворец спорта\", \"description\": \"Заебись. \" * 20, \"day\": 13, \"month\": 2,\n",
    "               \"year\": 2021, 'city': \"Москва\", 'free_seats': 30},\n",
    "              {'uuid': \"1\", \"title\": \"Дворец спорта\", \"description\": \"Заебись. \" * 20, \"day\": 13, \"month\": 2,\n",
    "               \"year\": 2021, 'city': \"Москва\", 'free_seats': 30},\n",
    "                {'uuid': \"1\", \"title\": \"Дворец спорта\", \"description\": \"Заебись. \" * 20, \"day\": 13, \"month\": 2,\n",
    "               \"year\": 2021, 'city': \"Москва\", 'free_seats': 30}\n",
    "              ]"
   ]
  },
  {
   "cell_type": "code",
   "execution_count": 46,
   "id": "37acd44e",
   "metadata": {},
   "outputs": [],
   "source": [
    "day=12\n",
    "month=1\n",
    "year=2021"
   ]
  },
  {
   "cell_type": "code",
   "execution_count": 48,
   "id": "0bcbaf6f",
   "metadata": {},
   "outputs": [
    {
     "data": {
      "text/plain": [
       "True"
      ]
     },
     "execution_count": 48,
     "metadata": {},
     "output_type": "execute_result"
    }
   ],
   "source": []
  },
  {
   "cell_type": "code",
   "execution_count": 41,
   "id": "4294cc4d",
   "metadata": {},
   "outputs": [
    {
     "data": {
      "text/plain": [
       "[{'uuid': '1',\n",
       "  'title': 'Дворец спорта',\n",
       "  'description': 'Заебись. Заебись. Заебись. Заебись. Заебись. Заебись. Заебись. Заебись. Заебись. Заебись. Заебись. Заебись. Заебись. Заебись. Заебись. Заебись. Заебись. Заебись. Заебись. Заебись. ',\n",
       "  'day': 13,\n",
       "  'month': 2,\n",
       "  'year': 2021,\n",
       "  'city': 'Москва',\n",
       "  'free_seats': 30},\n",
       " {'uuid': '1',\n",
       "  'title': 'Дворец спорта',\n",
       "  'description': 'Заебись. Заебись. Заебись. Заебись. Заебись. Заебись. Заебись. Заебись. Заебись. Заебись. Заебись. Заебись. Заебись. Заебись. Заебись. Заебись. Заебись. Заебись. Заебись. Заебись. ',\n",
       "  'day': 13,\n",
       "  'month': 2,\n",
       "  'year': 2021,\n",
       "  'city': 'Москва',\n",
       "  'free_seats': 30},\n",
       " {'uuid': '1',\n",
       "  'title': 'Дворец спорта',\n",
       "  'description': 'Заебись. Заебись. Заебись. Заебись. Заебись. Заебись. Заебись. Заебись. Заебись. Заебись. Заебись. Заебись. Заебись. Заебись. Заебись. Заебись. Заебись. Заебись. Заебись. Заебись. ',\n",
       "  'day': 13,\n",
       "  'month': 2,\n",
       "  'year': 2021,\n",
       "  'city': 'Москва',\n",
       "  'free_seats': 30},\n",
       " {'uuid': '1',\n",
       "  'title': 'Дворец спорта',\n",
       "  'description': 'Заебись. Заебись. Заебись. Заебись. Заебись. Заебись. Заебись. Заебись. Заебись. Заебись. Заебись. Заебись. Заебись. Заебись. Заебись. Заебись. Заебись. Заебись. Заебись. Заебись. ',\n",
       "  'day': 13,\n",
       "  'month': 1,\n",
       "  'year': 2021,\n",
       "  'city': 'Москва',\n",
       "  'free_seats': 30},\n",
       " {'uuid': '1',\n",
       "  'title': 'Дворец спорта',\n",
       "  'description': 'Заебись. Заебись. Заебись. Заебись. Заебись. Заебись. Заебись. Заебись. Заебись. Заебись. Заебись. Заебись. Заебись. Заебись. Заебись. Заебись. Заебись. Заебись. Заебись. Заебись. ',\n",
       "  'day': 12,\n",
       "  'month': 1,\n",
       "  'year': 2021,\n",
       "  'city': 'Москва',\n",
       "  'free_seats': 0},\n",
       " {'uuid': '1',\n",
       "  'title': 'Дворец спорта',\n",
       "  'description': 'Заебись. Заебись. Заебись. Заебись. Заебись. Заебись. Заебись. Заебись. Заебись. Заебись. Заебись. Заебись. Заебись. Заебись. Заебись. Заебись. Заебись. Заебись. Заебись. Заебись. ',\n",
       "  'day': 12,\n",
       "  'month': 1,\n",
       "  'year': 2021,\n",
       "  'city': 'Сочи',\n",
       "  'free_seats': 30},\n",
       " {'uuid': '1',\n",
       "  'title': 'Дворец спорта',\n",
       "  'description': 'Заебись. Заебись. Заебись. Заебись. Заебись. Заебись. Заебись. Заебись. Заебись. Заебись. Заебись. Заебись. Заебись. Заебись. Заебись. Заебись. Заебись. Заебись. Заебись. Заебись. ',\n",
       "  'day': 12,\n",
       "  'month': 1,\n",
       "  'year': 2020,\n",
       "  'city': 'Москва',\n",
       "  'free_seats': 1}]"
      ]
     },
     "execution_count": 41,
     "metadata": {},
     "output_type": "execute_result"
    }
   ],
   "source": [
    "sorted(places, key=lambda x: (x['day'], x['month'], x['year']))[::-1]"
   ]
  },
  {
   "cell_type": "code",
   "execution_count": null,
   "id": "f696f1a2",
   "metadata": {},
   "outputs": [],
   "source": []
  }
 ],
 "metadata": {
  "kernelspec": {
   "display_name": "Python 3",
   "language": "python",
   "name": "python3"
  },
  "language_info": {
   "codemirror_mode": {
    "name": "ipython",
    "version": 3
   },
   "file_extension": ".py",
   "mimetype": "text/x-python",
   "name": "python",
   "nbconvert_exporter": "python",
   "pygments_lexer": "ipython3",
   "version": "3.7.8"
  }
 },
 "nbformat": 4,
 "nbformat_minor": 5
}

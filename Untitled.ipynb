{
 "cells": [
  {
   "cell_type": "code",
   "execution_count": 1,
   "id": "9761a327",
   "metadata": {},
   "outputs": [],
   "source": [
    "%load_ext autoreload\n",
    "%autoreload 2"
   ]
  },
  {
   "cell_type": "code",
   "execution_count": 2,
   "id": "67891c1a",
   "metadata": {},
   "outputs": [],
   "source": [
    "import hashlib\n",
    "from utils import to_base64\n",
    "import base64"
   ]
  },
  {
   "cell_type": "code",
   "execution_count": 110,
   "id": "943389d3",
   "metadata": {},
   "outputs": [],
   "source": [
    "from crypto import RSAEncryption, generate_hash\n",
    "from Crypto.Cipher import PKCS1_OAEP\n",
    "from Crypto.PublicKey import RSA\n",
    "from Crypto import Random"
   ]
  },
  {
   "cell_type": "code",
   "execution_count": 124,
   "id": "93d1985d",
   "metadata": {},
   "outputs": [
    {
     "data": {
      "text/plain": [
       "'30fb9a46a8e8a3c0c2c2bbf561db3775d17783df'"
      ]
     },
     "execution_count": 124,
     "metadata": {},
     "output_type": "execute_result"
    }
   ],
   "source": [
    "generate_hash()"
   ]
  },
  {
   "cell_type": "code",
   "execution_count": 11,
   "id": "b8c99c7e",
   "metadata": {},
   "outputs": [],
   "source": [
    "rsa.generate_keys()"
   ]
  },
  {
   "cell_type": "code",
   "execution_count": 12,
   "id": "d6e071ba",
   "metadata": {},
   "outputs": [
    {
     "data": {
      "text/plain": [
       "'Hello'"
      ]
     },
     "execution_count": 12,
     "metadata": {},
     "output_type": "execute_result"
    }
   ],
   "source": [
    "rsa.decrypt(rsa.encrypt())"
   ]
  },
  {
   "cell_type": "code",
   "execution_count": 37,
   "id": "df203876",
   "metadata": {},
   "outputs": [],
   "source": [
    "from uuid import UUID, uuid4"
   ]
  },
  {
   "cell_type": "code",
   "execution_count": 39,
   "id": "55a9a931",
   "metadata": {},
   "outputs": [
    {
     "data": {
      "text/plain": [
       "UUID('db40ed17-7ca8-4d14-a1ac-cf38d9e46536')"
      ]
     },
     "execution_count": 39,
     "metadata": {},
     "output_type": "execute_result"
    }
   ],
   "source": [
    "uid = uuid4()\n",
    "uid"
   ]
  },
  {
   "cell_type": "code",
   "execution_count": 50,
   "id": "e8633803",
   "metadata": {},
   "outputs": [
    {
     "data": {
      "text/plain": [
       "UUID('560741e1-7e29-4539-a0b3-4d38f144ebe9')"
      ]
     },
     "execution_count": 50,
     "metadata": {},
     "output_type": "execute_result"
    }
   ],
   "source": [
    "UUID('560741E1-7E29-4539-A0B3-4D38F144EBE9')"
   ]
  },
  {
   "cell_type": "code",
   "execution_count": 60,
   "id": "55233b87",
   "metadata": {},
   "outputs": [],
   "source": [
    "t = hashlib.sha256()"
   ]
  },
  {
   "cell_type": "code",
   "execution_count": 107,
   "id": "2a8cfbaf",
   "metadata": {},
   "outputs": [],
   "source": [
    "t = hashlib.sha1(os.urandom(32))"
   ]
  },
  {
   "cell_type": "code",
   "execution_count": 108,
   "id": "15ec8904",
   "metadata": {},
   "outputs": [
    {
     "data": {
      "text/plain": [
       "'cf1b9c1744a615cb9a5ea28f5c962e348f4cf3af'"
      ]
     },
     "execution_count": 108,
     "metadata": {},
     "output_type": "execute_result"
    }
   ],
   "source": [
    "t.hexdigest()"
   ]
  },
  {
   "cell_type": "code",
   "execution_count": 91,
   "id": "bb6dbba3",
   "metadata": {},
   "outputs": [],
   "source": [
    "import os"
   ]
  },
  {
   "cell_type": "code",
   "execution_count": null,
   "id": "4563e1be",
   "metadata": {},
   "outputs": [],
   "source": []
  }
 ],
 "metadata": {
  "kernelspec": {
   "display_name": "Python 3",
   "language": "python",
   "name": "python3"
  },
  "language_info": {
   "codemirror_mode": {
    "name": "ipython",
    "version": 3
   },
   "file_extension": ".py",
   "mimetype": "text/x-python",
   "name": "python",
   "nbconvert_exporter": "python",
   "pygments_lexer": "ipython3",
   "version": "3.7.8"
  }
 },
 "nbformat": 4,
 "nbformat_minor": 5
}
